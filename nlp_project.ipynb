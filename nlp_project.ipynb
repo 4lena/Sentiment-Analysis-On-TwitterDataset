{
  "cells": [
    {
      "cell_type": "code",
      "execution_count": null,
      "metadata": {
        "colab": {
          "base_uri": "https://localhost:8080/"
        },
        "id": "5LrR1FeOyfqI",
        "outputId": "680016a5-ae52-4de2-e620-20341e23c23d"
      },
      "outputs": [
        {
          "name": "stdout",
          "output_type": "stream",
          "text": [
            "Drive already mounted at /content/drive; to attempt to forcibly remount, call drive.mount(\"/content/drive\", force_remount=True).\n",
            "/content/drive/MyDrive/nlp5\n"
          ]
        }
      ],
      "source": [
        "from google.colab import drive\n",
        "drive.mount('/content/drive')\n",
        "%cd /content/drive/MyDrive/nlp5"
      ]
    },
    {
      "cell_type": "code",
      "execution_count": null,
      "metadata": {
        "id": "rVxyiFpCmLWT"
      },
      "outputs": [],
      "source": [
        "# import required libraries\n",
        "import pandas as pd\n",
        "import re\n",
        "from nltk.corpus import stopwords\n",
        "from nltk.stem import WordNetLemmatizer\n",
        "from sklearn.model_selection import train_test_split\n",
        "from sklearn.feature_extraction.text import TfidfVectorizer\n",
        "from sklearn.linear_model import LogisticRegression\n",
        "from sklearn.metrics import classification_report"
      ]
    },
    {
      "attachments": {},
      "cell_type": "markdown",
      "metadata": {
        "id": "WrwpQ_CYn2nB"
      },
      "source": [
        "# **Dataset** **Preprocessing** "
      ]
    },
    {
      "cell_type": "code",
      "execution_count": null,
      "metadata": {
        "colab": {
          "base_uri": "https://localhost:8080/"
        },
        "id": "VdaF_36SnxPx",
        "outputId": "35e5ec95-2ffe-4b6b-9930-56e226f3c67e"
      },
      "outputs": [
        {
          "name": "stdout",
          "output_type": "stream",
          "text": [
            "   0  1467810369  Mon Apr 06 22:19:45 PDT 2009  NO_QUERY _TheSpecialOne_  \\\n",
            "0  0  1467810672  Mon Apr 06 22:19:49 PDT 2009  NO_QUERY   scotthamilton   \n",
            "1  0  1467810917  Mon Apr 06 22:19:53 PDT 2009  NO_QUERY        mattycus   \n",
            "2  0  1467811184  Mon Apr 06 22:19:57 PDT 2009  NO_QUERY         ElleCTF   \n",
            "3  0  1467811193  Mon Apr 06 22:19:57 PDT 2009  NO_QUERY          Karoli   \n",
            "4  0  1467811372  Mon Apr 06 22:20:00 PDT 2009  NO_QUERY        joy_wolf   \n",
            "\n",
            "  @switchfoot http://twitpic.com/2y1zl - Awww, that's a bummer.  You shoulda got David Carr of Third Day to do it. ;D  \n",
            "0  is upset that he can't update his Facebook by ...                                                                   \n",
            "1  @Kenichan I dived many times for the ball. Man...                                                                   \n",
            "2    my whole body feels itchy and like its on fire                                                                    \n",
            "3  @nationwideclass no, it's not behaving at all....                                                                   \n",
            "4                      @Kwesidei not the whole crew                                                                    \n"
          ]
        }
      ],
      "source": [
        "# Load the dataset\n",
        "dataset_path = 'training.1600000.processed.noemoticon.csv'\n",
        "\n",
        "# Load the dataset\n",
        "df = pd.read_csv(dataset_path, encoding='latin')\n",
        "\n",
        "# Display the first few rows of the dataset\n",
        "print(df.head())"
      ]
    },
    {
      "cell_type": "code",
      "execution_count": null,
      "metadata": {
        "colab": {
          "base_uri": "https://localhost:8080/"
        },
        "id": "BtXhTKxvw3UQ",
        "outputId": "da2855b3-2369-4399-e5af-412954641b09"
      },
      "outputs": [
        {
          "name": "stdout",
          "output_type": "stream",
          "text": [
            "Index(['target', 'id', 'date', 'flag', 'user', 'text'], dtype='object')\n"
          ]
        }
      ],
      "source": [
        "# Assign column names to the DataFrame\n",
        "df.columns = ['target', 'id', 'date', 'flag', 'user', 'text']\n",
        "\n",
        "# Check the column names\n",
        "print(df.columns)"
      ]
    },
    {
      "cell_type": "code",
      "execution_count": null,
      "metadata": {
        "colab": {
          "base_uri": "https://localhost:8080/"
        },
        "id": "mFVE5IEhwa05",
        "outputId": "07fec65f-904c-48ac-e76b-60ccd0c27218"
      },
      "outputs": [
        {
          "name": "stdout",
          "output_type": "stream",
          "text": [
            "target    0\n",
            "id        0\n",
            "date      0\n",
            "flag      0\n",
            "user      0\n",
            "text      0\n",
            "dtype: int64\n"
          ]
        }
      ],
      "source": [
        "# Check for missing values\n",
        "missing_values = df.isnull().sum()\n",
        "print(missing_values)"
      ]
    },
    {
      "cell_type": "code",
      "execution_count": null,
      "metadata": {
        "colab": {
          "base_uri": "https://localhost:8080/"
        },
        "id": "KJR0XJLaxQ4c",
        "outputId": "3d78fa29-483c-466d-9583-0c2321b7ff90"
      },
      "outputs": [
        {
          "name": "stdout",
          "output_type": "stream",
          "text": [
            "Number of duplicate rows: 0\n"
          ]
        }
      ],
      "source": [
        "# Check for duplicate values\n",
        "duplicate_rows = df.duplicated().sum()\n",
        "print(\"Number of duplicate rows:\", duplicate_rows)"
      ]
    },
    {
      "cell_type": "code",
      "execution_count": null,
      "metadata": {
        "id": "6OsV4Wi3vuX0"
      },
      "outputs": [],
      "source": [
        "# Data cleaning\n",
        "df = df[['target', 'text']]  # Keep only the target (sentiment) and text columns"
      ]
    },
    {
      "cell_type": "code",
      "execution_count": null,
      "metadata": {
        "id": "jBHD9elxONuR"
      },
      "outputs": [],
      "source": [
        "df['target'][df['target']==4]=1 #Assigning 1 to Positive sentment 4"
      ]
    },
    {
      "cell_type": "code",
      "execution_count": null,
      "metadata": {
        "colab": {
          "base_uri": "https://localhost:8080/"
        },
        "id": "Sm4_ehXBK7X9",
        "outputId": "4f66769c-249d-439d-d0ba-d340ac3ca4d7"
      },
      "outputs": [
        {
          "data": {
            "text/plain": [
              "1    800000\n",
              "0    799999\n",
              "Name: target, dtype: int64"
            ]
          },
          "execution_count": 59,
          "metadata": {},
          "output_type": "execute_result"
        }
      ],
      "source": [
        "df['target'].value_counts()"
      ]
    },
    {
      "cell_type": "code",
      "execution_count": null,
      "metadata": {
        "colab": {
          "base_uri": "https://localhost:8080/"
        },
        "id": "TRrIjpI7yEVj",
        "outputId": "535cae62-c800-4bb2-f482-fd2daecc153d"
      },
      "outputs": [
        {
          "name": "stdout",
          "output_type": "stream",
          "text": [
            "Looking in indexes: https://pypi.org/simple, https://us-python.pkg.dev/colab-wheels/public/simple/\n",
            "Requirement already satisfied: nltk in /usr/local/lib/python3.10/dist-packages (3.8.1)\n",
            "Requirement already satisfied: click in /usr/local/lib/python3.10/dist-packages (from nltk) (8.1.3)\n",
            "Requirement already satisfied: joblib in /usr/local/lib/python3.10/dist-packages (from nltk) (1.2.0)\n",
            "Requirement already satisfied: regex>=2021.8.3 in /usr/local/lib/python3.10/dist-packages (from nltk) (2022.10.31)\n",
            "Requirement already satisfied: tqdm in /usr/local/lib/python3.10/dist-packages (from nltk) (4.65.0)\n"
          ]
        },
        {
          "name": "stderr",
          "output_type": "stream",
          "text": [
            "[nltk_data] Downloading package punkt to /root/nltk_data...\n",
            "[nltk_data]   Package punkt is already up-to-date!\n",
            "[nltk_data] Downloading package stopwords to /root/nltk_data...\n",
            "[nltk_data]   Package stopwords is already up-to-date!\n",
            "[nltk_data] Downloading package wordnet to /root/nltk_data...\n",
            "[nltk_data]   Package wordnet is already up-to-date!\n"
          ]
        }
      ],
      "source": [
        "# Text preprocessing\n",
        "!pip install nltk\n",
        "import nltk\n",
        "nltk.download('punkt')\n",
        "nltk.download('stopwords')\n",
        "nltk.download('wordnet')\n",
        "\n",
        "stop_words = set(stopwords.words('english'))\n",
        "lemmatizer = WordNetLemmatizer()\n",
        "\n",
        "def preprocess_text(text):\n",
        "    # Tokenization and removing special characters or URLs\n",
        "    text = re.sub(r\"http\\S+|www\\S+|https\\S+\", \"\", text)\n",
        "    text = re.sub(r\"[^\\w\\s]\", \"\", text)\n",
        "    text = re.sub(r\"\\s+\", \" \", text)\n",
        "\n",
        "    # Lowercasing and removing stopwords\n",
        "    tokens = text.lower().split()\n",
        "    tokens = [token for token in tokens if token not in stop_words]\n",
        "\n",
        "    # Lemmatization\n",
        "    tokens = [lemmatizer.lemmatize(token) for token in tokens]\n",
        "\n",
        "    return \" \".join(tokens)\n",
        "# new column contains the preprocessed text\n",
        "df['preprocessed_text'] = df['text'].apply(preprocess_text)"
      ]
    },
    {
      "attachments": {},
      "cell_type": "markdown",
      "metadata": {
        "id": "rOGzTArtzMy5"
      },
      "source": [
        "# The Baseline model (logistic regression model)"
      ]
    },
    {
      "cell_type": "code",
      "execution_count": null,
      "metadata": {
        "id": "s70YhoZc10lW"
      },
      "outputs": [],
      "source": [
        "#to facilitate easy processing and execution of our models we Separate positive and negative tweets\n",
        "pos = df[df['target'] == 1]\n",
        "neg = df[df['target'] == 0]\n",
        "\n",
        "pos = pos.iloc[:int(200000)] #200,000 Positive Tweet\n",
        "neg = neg.iloc[:int(200000)] #200,000 Negative Tweet\n",
        "\n",
        "df = pd.concat([pos, neg]) #compine tweets\n",
        "\n",
        "#Separating features and target\n",
        "X=df.text\n",
        "y=df.target"
      ]
    },
    {
      "cell_type": "code",
      "execution_count": null,
      "metadata": {
        "colab": {
          "base_uri": "https://localhost:8080/"
        },
        "id": "vW0f0doC0np0",
        "outputId": "e4111745-cfea-4083-abb7-aa819566cf4b"
      },
      "outputs": [
        {
          "name": "stdout",
          "output_type": "stream",
          "text": [
            "Train set size: 320000\n",
            "Test set size: 80000\n",
            "Train set size: 320000\n",
            "Test set size: 80000\n"
          ]
        }
      ],
      "source": [
        "#split the dataset into training and testing sets\n",
        "X_train, X_test, y_train, y_test = train_test_split(X, y, test_size=0.2, random_state=42)\n",
        "\n",
        "print(f\"Train set size: {len(X_train)}\")\n",
        "print(f\"Test set size: {len(X_test)}\")\n",
        "\n",
        "print(f\"Train set size: {len(y_train)}\")\n",
        "print(f\"Test set size: {len(y_test)}\")"
      ]
    },
    {
      "cell_type": "code",
      "execution_count": null,
      "metadata": {
        "id": "U8BlbxJALuEQ"
      },
      "outputs": [],
      "source": [
        "#convert the text data into numerical features using TF-IDF\n",
        "tfidf = TfidfVectorizer()\n",
        "X_train_tfidf = tfidf.fit_transform(X_train)\n",
        "X_test_tfidf = tfidf.transform(X_test)"
      ]
    },
    {
      "cell_type": "code",
      "execution_count": null,
      "metadata": {
        "colab": {
          "base_uri": "https://localhost:8080/"
        },
        "id": "McslB6AC29xW",
        "outputId": "9f585414-f073-4016-986e-2c1c36493853"
      },
      "outputs": [
        {
          "name": "stderr",
          "output_type": "stream",
          "text": [
            "/usr/local/lib/python3.10/dist-packages/sklearn/linear_model/_logistic.py:458: ConvergenceWarning: lbfgs failed to converge (status=1):\n",
            "STOP: TOTAL NO. of ITERATIONS REACHED LIMIT.\n",
            "\n",
            "Increase the number of iterations (max_iter) or scale the data as shown in:\n",
            "    https://scikit-learn.org/stable/modules/preprocessing.html\n",
            "Please also refer to the documentation for alternative solver options:\n",
            "    https://scikit-learn.org/stable/modules/linear_model.html#logistic-regression\n",
            "  n_iter_i = _check_optimize_result(\n"
          ]
        }
      ],
      "source": [
        "#logistic regression model\n",
        "\n",
        "#define & train the model on the training set\n",
        "lr = LogisticRegression().fit(X_train_tfidf, y_train)\n",
        "\n",
        "#make predictions on the testing data\n",
        "y_pred_lr = lr.predict(X_test_tfidf)"
      ]
    },
    {
      "cell_type": "code",
      "execution_count": null,
      "metadata": {
        "colab": {
          "base_uri": "https://localhost:8080/"
        },
        "id": "fu23VIW94Ejv",
        "outputId": "abe56278-40d2-4512-d868-c87c6fa6c42b"
      },
      "outputs": [
        {
          "name": "stdout",
          "output_type": "stream",
          "text": [
            "              precision    recall  f1-score   support\n",
            "\n",
            "           0       0.79      0.79      0.79     39949\n",
            "           1       0.79      0.80      0.79     40051\n",
            "\n",
            "    accuracy                           0.79     80000\n",
            "   macro avg       0.79      0.79      0.79     80000\n",
            "weighted avg       0.79      0.79      0.79     80000\n",
            "\n"
          ]
        }
      ],
      "source": [
        "#evaluate the performance of the model\n",
        "report = classification_report(y_test, y_pred_lr)\n",
        "\n",
        "print(report)"
      ]
    },
    {
      "cell_type": "code",
      "execution_count": null,
      "metadata": {
        "colab": {
          "base_uri": "https://localhost:8080/"
        },
        "id": "ry8Qpe3Z70bf",
        "outputId": "0ccab273-c3ea-4171-dfb3-7125c7621e2c"
      },
      "outputs": [
        {
          "name": "stdout",
          "output_type": "stream",
          "text": [
            "Logistic Regression Model Evaluation Metrics:\n",
            "Accuracy: 0.7919\n",
            "Precision: 0.7893\n",
            "Recall: 0.7970\n",
            "F1-Score: 0.7931\n"
          ]
        }
      ],
      "source": [
        "# make predictions on the test data\n",
        "y_pred_lr = lr.predict(X_test_tfidf)\n",
        "\n",
        "# compute evaluation metrics for the logistic regression model\n",
        "accuracy_lr = accuracy_score(y_test, y_pred_lr)\n",
        "precision_lr = precision_score(y_test, y_pred_lr)\n",
        "recall_lr = recall_score(y_test, y_pred_lr)\n",
        "f1_lr = f1_score(y_test, y_pred_lr)\n",
        "\n",
        "print(\"Logistic Regression Model Evaluation Metrics:\")\n",
        "print(f\"Accuracy: {accuracy_lr:.4f}\")\n",
        "print(f\"Precision: {precision_lr:.4f}\")\n",
        "print(f\"Recall: {recall_lr:.4f}\")\n",
        "print(f\"F1-Score: {f1_lr:.4f}\")"
      ]
    },
    {
      "attachments": {},
      "cell_type": "markdown",
      "metadata": {
        "id": "TyXdjWuP8u2w"
      },
      "source": [
        "## Findings:\n",
        "The precision score for predicting negative sentiment (0) is 0.80, which means that out of all the predictions made for negative sentiment, 80% were correct. Similarly, the precision score for predicting positive sentiment (4) is 0.78, indicating that out of all the predictions made for positive sentiment, 78% were correct.\n",
        "\n",
        "The recall score for predicting negative sentiment is 0.77, which means that out of all the actual negative sentiments in the dataset, the model correctly identified 77% of them. The recall score for predicting positive sentiment is 0.80, indicating that out of all the actual positive sentiments in the dataset, the model correctly identified 80% of them.\n",
        "\n",
        "The F1-score, which is a weighted average of precision and recall, is 0.78 for negative sentiment and 0.79 for positive sentiment. The accuracy of the model is 0.79, which means that overall, the model correctly predicted the sentiment of 79% of the tweets in the dataset.\n",
        "\n",
        "The macro average F1-score (0.79) and weighted average F1-score (0.79) are the same, indicating that the dataset is balanced. This means that the model performs equally well on both positive and negative sentiments."
      ]
    },
    {
      "attachments": {},
      "cell_type": "markdown",
      "metadata": {
        "id": "chG2x2u216nb"
      },
      "source": [
        "# Advanced model long short-term memory(LSTM)"
      ]
    },
    {
      "cell_type": "code",
      "execution_count": null,
      "metadata": {
        "id": "8zGVkf1mRg5x"
      },
      "outputs": [],
      "source": [
        "from sklearn.model_selection import train_test_split\n",
        "from mlxtend.plotting import plot_confusion_matrix\n",
        "import matplotlib.cm as cm\n",
        "from matplotlib import rcParams\n",
        "from collections import Counter\n",
        "from nltk.tokenize import RegexpTokenizer\n",
        "import re\n",
        "import string\n",
        "from tensorflow.keras.layers import Input, Embedding, LSTM, Dense, Activation, Dropout, Bidirectional\n",
        "from tensorflow.keras.models import Model\n",
        "from tensorflow.keras.optimizers import RMSprop\n",
        "from tensorflow.keras.preprocessing.text import Tokenizer\n",
        "from tensorflow.keras.preprocessing import sequence\n",
        "\n",
        "%matplotlib inline\n",
        "\n",
        "# Define the maximum sequence length and tokenize the input text\n",
        "max_len = 500\n",
        "tok = Tokenizer(num_words=2000)\n",
        "tok.fit_on_texts(X)\n",
        "sequences = tok.texts_to_sequences(X)\n",
        "sequences_matrix = sequence.pad_sequences(sequences,maxlen=max_len)"
      ]
    },
    {
      "cell_type": "code",
      "execution_count": null,
      "metadata": {
        "colab": {
          "base_uri": "https://localhost:8080/"
        },
        "id": "yvCwVpEWR2WS",
        "outputId": "11cfe5c6-d951-4f59-b8eb-d28860d8f317"
      },
      "outputs": [
        {
          "data": {
            "text/plain": [
              "(400000, 500)"
            ]
          },
          "execution_count": 68,
          "metadata": {},
          "output_type": "execute_result"
        }
      ],
      "source": [
        "sequences_matrix.shape"
      ]
    },
    {
      "cell_type": "code",
      "execution_count": null,
      "metadata": {
        "id": "nhq7CBniR8Hf"
      },
      "outputs": [],
      "source": [
        "#split the dataset into training and testing sets\n",
        "X_train, X_test, Y_train, Y_test = train_test_split(sequences_matrix, y, test_size=0.2, random_state=42)"
      ]
    },
    {
      "cell_type": "code",
      "execution_count": null,
      "metadata": {
        "id": "QIUb4xXYSJLe"
      },
      "outputs": [],
      "source": [
        "# Define the LSTM model architecture\n",
        "def tensorflow_based_model(): \n",
        "    # Input layer\n",
        "    inputs = Input(name='inputs', shape=[max_len])\n",
        "\n",
        "    # Embedding layer\n",
        "    layer = Embedding(2000, 100, input_length=max_len)(inputs)\n",
        "\n",
        "    # Bidirectional LSTM layers with dropout\n",
        "    layer = Bidirectional(LSTM(64, return_sequences=True))(layer)\n",
        "    layer = Dropout(0.5)(layer)\n",
        "    layer = LSTM(64)(layer)\n",
        "\n",
        "    # Dense layer\n",
        "    layer = Dense(512, name='FC1')(layer)\n",
        "\n",
        "    # Activation layer\n",
        "    layer = Activation('relu')(layer)\n",
        "\n",
        "    # Dropout layer\n",
        "    layer = Dropout(0.5)(layer)\n",
        "\n",
        "    # Output layer\n",
        "    layer = Dense(1, name='out_layer')(layer)\n",
        "\n",
        "    # Sigmoid activation for binary classification\n",
        "    layer = Activation('sigmoid')(layer)\n",
        "\n",
        "    # Define the model with input and output layers\n",
        "    model = Model(inputs=inputs, outputs=layer)\n",
        "\n",
        "    # Return the model\n",
        "    return model"
      ]
    },
    {
      "cell_type": "code",
      "execution_count": null,
      "metadata": {
        "id": "XJwzNw_1SVVD"
      },
      "outputs": [],
      "source": [
        "model = tensorflow_based_model() # create the model\n",
        "model.compile(loss='binary_crossentropy',optimizer=RMSprop(),metrics=['accuracy'])  #compile"
      ]
    },
    {
      "cell_type": "code",
      "execution_count": null,
      "metadata": {
        "colab": {
          "base_uri": "https://localhost:8080/"
        },
        "id": "WyeIMXcKSZXx",
        "outputId": "2c2270dd-9560-4757-e3e9-5d6fa0543d52"
      },
      "outputs": [
        {
          "name": "stdout",
          "output_type": "stream",
          "text": [
            "Epoch 1/10\n",
            "3600/3600 [==============================] - 230s 63ms/step - loss: 0.4875 - accuracy: 0.7641 - val_loss: 0.4593 - val_accuracy: 0.7868\n",
            "Epoch 2/10\n",
            "3600/3600 [==============================] - 202s 56ms/step - loss: 0.4522 - accuracy: 0.7877 - val_loss: 0.4408 - val_accuracy: 0.7930\n",
            "Epoch 3/10\n",
            "3600/3600 [==============================] - 199s 55ms/step - loss: 0.4387 - accuracy: 0.7967 - val_loss: 0.4377 - val_accuracy: 0.7959\n",
            "Epoch 4/10\n",
            "3600/3600 [==============================] - 198s 55ms/step - loss: 0.4307 - accuracy: 0.8016 - val_loss: 0.4357 - val_accuracy: 0.7997\n",
            "Epoch 5/10\n",
            "3600/3600 [==============================] - 199s 55ms/step - loss: 0.4248 - accuracy: 0.8049 - val_loss: 0.4335 - val_accuracy: 0.7990\n",
            "Epoch 6/10\n",
            "3600/3600 [==============================] - 196s 55ms/step - loss: 0.4201 - accuracy: 0.8068 - val_loss: 0.4286 - val_accuracy: 0.8031\n",
            "Epoch 7/10\n",
            "3600/3600 [==============================] - 198s 55ms/step - loss: 0.4159 - accuracy: 0.8097 - val_loss: 0.4249 - val_accuracy: 0.8037\n",
            "Epoch 8/10\n",
            "3600/3600 [==============================] - 197s 55ms/step - loss: 0.4123 - accuracy: 0.8123 - val_loss: 0.4330 - val_accuracy: 0.8014\n",
            "Epoch 9/10\n",
            "3600/3600 [==============================] - 201s 56ms/step - loss: 0.4090 - accuracy: 0.8142 - val_loss: 0.4249 - val_accuracy: 0.8032\n",
            "Epoch 10/10\n",
            "3600/3600 [==============================] - 198s 55ms/step - loss: 0.4058 - accuracy: 0.8156 - val_loss: 0.4372 - val_accuracy: 0.8023\n",
            "Done !\n"
          ]
        }
      ],
      "source": [
        "history=model.fit(X_train,y_train,batch_size=80,epochs=10, validation_split=0.1)# train the model\n",
        "print('Done !')"
      ]
    },
    {
      "cell_type": "code",
      "execution_count": null,
      "metadata": {
        "colab": {
          "base_uri": "https://localhost:8080/"
        },
        "id": "fC9BHa1aOmpe",
        "outputId": "849387ab-d058-4a65-f996-e2129e563015"
      },
      "outputs": [
        {
          "name": "stdout",
          "output_type": "stream",
          "text": [
            "2500/2500 [==============================] - 49s 19ms/step\n",
            "              precision    recall  f1-score   support\n",
            "\n",
            "           0       0.79      0.81      0.80     39949\n",
            "           1       0.81      0.78      0.79     40051\n",
            "\n",
            "    accuracy                           0.80     80000\n",
            "   macro avg       0.80      0.80      0.80     80000\n",
            "weighted avg       0.80      0.80      0.80     80000\n",
            "\n"
          ]
        }
      ],
      "source": [
        "# Evaluate the model on the test data\n",
        "import numpy as np\n",
        "# Make predictions on the test data\n",
        "y_pred = model.predict(X_test)\n",
        "\n",
        "# convert predictions to binary values (0 or 1)\n",
        "y_pred = np.round(y_pred)\n",
        "\n",
        "#evaluate the performance of the model\n",
        "report = classification_report(y_test, y_pred)\n",
        "\n",
        "print(report)"
      ]
    },
    {
      "attachments": {},
      "cell_type": "markdown",
      "metadata": {
        "id": "BHszsRALsX7m"
      },
      "source": [
        "## Findings:"
      ]
    },
    {
      "attachments": {},
      "cell_type": "markdown",
      "metadata": {
        "id": "VV44vbJLeAzl"
      },
      "source": [
        "Based on the evaluation results, it appears that the LSTM model is the superior model for sentiment analysis on Twitter data. The LSTM model achieved higher accuracy and F1-score compared to the LR model, which suggests that it is better at correctly classifying tweets as either positive or negative. However, the precision and recall values for both models are similar, with the LSTM model being slightly better at identifying negative tweets.\n",
        "\n",
        "The LSTM model achieved higher accuracy and F1-score compared to the LR model. Accuracy is a measure of the proportion of correctly classified instances, while F1-score is the harmonic mean of precision and recall, and is a useful metric when both precision and recall are important. In this case, the LSTM model achieved an accuracy of 0.80 and an F1-score of 0.80, while the LR model achieved an accuracy of 0.79 and an F1-score of 0.79. These results suggest that the LSTM model is better at correctly classifying tweets as either positive or negative, which is the ultimate goal of sentiment analysis.\n",
        "\n",
        "The precision and recall values for both models are similar, with the LSTM model achieving a precision value of 0.80 and a recall value of 0.79 for positive tweets, and the LR model achieving a precision value of 0.79 and a recall value of 0.80 for positive tweets. Precision measures the proportion of true positive predictions among all positive predictions made by the model, while recall measures the proportion of true positive predictions among all actual positive instances in the test data. These results suggest that both models are equally effective at identifying positive tweets, but the LSTM model is slightly better at identifying negative tweets."
      ]
    },
    {
      "attachments": {},
      "cell_type": "markdown",
      "metadata": {
        "id": "7bcmE4waEDe9"
      },
      "source": [
        "##Comparing models"
      ]
    },
    {
      "cell_type": "code",
      "execution_count": null,
      "metadata": {
        "colab": {
          "base_uri": "https://localhost:8080/"
        },
        "id": "jW9DwuRHEXG-",
        "outputId": "90899179-916e-49ab-e624-fe4507b037c8"
      },
      "outputs": [
        {
          "name": "stdout",
          "output_type": "stream",
          "text": [
            "Logistic Regression Model Evaluation Metrics:\n",
            "Accuracy: 0.7919\n",
            "Precision: 0.7893\n",
            "Recall: 0.7970\n",
            "F1-Score: 0.7931\n"
          ]
        }
      ],
      "source": [
        "# compute evaluation metrics for the logistic regression model\n",
        "accuracy_lr = accuracy_score(y_test, y_pred_lr)\n",
        "precision_lr = precision_score(y_test, y_pred_lr)\n",
        "recall_lr = recall_score(y_test, y_pred_lr)\n",
        "f1_lr = f1_score(y_test, y_pred_lr)\n",
        "\n",
        "print(\"Logistic Regression Model Evaluation Metrics:\")\n",
        "print(f\"Accuracy: {accuracy_lr:.4f}\")\n",
        "print(f\"Precision: {precision_lr:.4f}\")\n",
        "print(f\"Recall: {recall_lr:.4f}\")\n",
        "print(f\"F1-Score: {f1_lr:.4f}\")"
      ]
    },
    {
      "cell_type": "code",
      "execution_count": null,
      "metadata": {
        "colab": {
          "base_uri": "https://localhost:8080/",
          "height": 448
        },
        "id": "x5ZJdvDgEG_d",
        "outputId": "f1e3015c-6c62-4011-d648-597ca705303e"
      },
      "outputs": [
        {
          "data": {
            "text/plain": [
              "<Axes: >"
            ]
          },
          "execution_count": 75,
          "metadata": {},
          "output_type": "execute_result"
        },
        {
          "data": {
            "image/png": "[encoded data removed]",
            "text/plain": [
              "<Figure size 640x480 with 2 Axes>"
            ]
          },
          "metadata": {},
          "output_type": "display_data"
        }
      ],
      "source": [
        "#Logistic Regression\n",
        "from sklearn.metrics import confusion_matrix\n",
        "import seaborn as sns\n",
        "#evaluate the performance of the model\n",
        "\n",
        "cm_lstm = confusion_matrix(y_test, y_pred_lr)\n",
        "sns.heatmap(cm_lstm, annot=True, fmt='d')"
      ]
    },
    {
      "cell_type": "code",
      "execution_count": null,
      "metadata": {
        "colab": {
          "base_uri": "https://localhost:8080/"
        },
        "id": "5XSwrNfYElt2",
        "outputId": "6a5a161f-856f-44b0-f632-6d563472c1b3"
      },
      "outputs": [
        {
          "name": "stdout",
          "output_type": "stream",
          "text": [
            "LSTM Model Evaluation Metrics:\n",
            "Accuracy: 0.7977\n",
            "Precision: 0.8079\n",
            "Recall: 0.7819\n",
            "F1-Score: 0.7947\n"
          ]
        }
      ],
      "source": [
        "# compute evaluation metrics for the LSTM model\n",
        "# Evaluate the performance of the LSTM model\n",
        "from sklearn.metrics import accuracy_score, precision_score, recall_score, f1_score\n",
        "# convert predictions to binary values (0 or 1)\n",
        "y_pred_lstm = np.round(y_pred)\n",
        "\n",
        "# compute evaluation metrics for the LSTM model\n",
        "accuracy_lstm = accuracy_score(y_test, y_pred_lstm)\n",
        "precision_lstm = precision_score(y_test, y_pred_lstm)\n",
        "recall_lstm = recall_score(y_test, y_pred_lstm)\n",
        "f1_lstm = f1_score(y_test, y_pred_lstm)\n",
        "\n",
        "print(\"LSTM Model Evaluation Metrics:\")\n",
        "print(f\"Accuracy: {accuracy_lstm:.4f}\")\n",
        "print(f\"Precision: {precision_lstm:.4f}\")\n",
        "print(f\"Recall: {recall_lstm:.4f}\")\n",
        "print(f\"F1-Score: {f1_lstm:.4f}\")"
      ]
    },
    {
      "cell_type": "code",
      "execution_count": null,
      "metadata": {
        "colab": {
          "base_uri": "https://localhost:8080/",
          "height": 484
        },
        "id": "KAe8Dyl6EhQr",
        "outputId": "b0037b8d-4fa9-44c9-e12a-6aee660aa608"
      },
      "outputs": [
        {
          "name": "stdout",
          "output_type": "stream",
          "text": [
            "LSTM Model Test Loss: 0.44430696964263916\n",
            "LSTM Model Test Accuracy: 0.7977374792098999\n"
          ]
        },
        {
          "data": {
            "text/plain": [
              "<Axes: >"
            ]
          },
          "execution_count": 77,
          "metadata": {},
          "output_type": "execute_result"
        },
        {
          "data": {
            "image/png": "[encoded data removed]",
            "text/plain": [
              "<Figure size 640x480 with 2 Axes>"
            ]
          },
          "metadata": {},
          "output_type": "display_data"
        }
      ],
      "source": [
        "#LSTM\n",
        "\n",
        "# Evaluate the performance of the model on the test set\n",
        "#evaluate the performance of the model on the test data\n",
        "loss, accuracy = model.evaluate(X_test, y_test, verbose=0)\n",
        "\n",
        "print(\"LSTM Model Test Loss:\", loss)\n",
        "print(\"LSTM Model Test Accuracy:\", accuracy)\n",
        "\n",
        "# Compute and visualize the confusion matrix\n",
        "cm_lstm = confusion_matrix(y_test, y_pred)\n",
        "sns.heatmap(cm_lstm, annot=True, fmt='d')"
      ]
    },
    {
      "cell_type": "code",
      "execution_count": null,
      "metadata": {
        "colab": {
          "base_uri": "https://localhost:8080/",
          "height": 468
        },
        "id": "ae_1dJ9hEobI",
        "outputId": "977f65f0-0e8f-4ca1-97f3-1e438ca49b2a"
      },
      "outputs": [
        {
          "data": {
            "image/png": "[encoded data removed]",
            "text/plain": [
              "<Figure size 1000x500 with 1 Axes>"
            ]
          },
          "metadata": {},
          "output_type": "display_data"
        }
      ],
      "source": [
        "# Compare the performance of the two models using a bar chart\n",
        "import matplotlib.pyplot as plt\n",
        "\n",
        "# create a dictionary of evaluation metrics for both models\n",
        "lr_metrics = {\"Accuracy\": accuracy_lr, \"Precision\": precision_lr, \"Recall\": recall_lr, \"F1-Score\": f1_lr}\n",
        "lstm_metrics = {\"Accuracy\": accuracy_lstm, \"Precision\": precision_lstm, \"Recall\": recall_lstm, \"F1-Score\": f1_lstm}\n",
        "\n",
        "# plot a bar chart to compare the evaluation metrics of the two models\n",
        "plt.figure(figsize=(10, 5))\n",
        "plt.bar(lr_metrics.keys(), lr_metrics.values(), label=\"Logistic Regression\")\n",
        "plt.bar(lstm_metrics.keys(), lstm_metrics.values(), label=\"LSTM\")\n",
        "plt.title(\"Comparison of Evaluation Metrics for Logistic Regression and LSTM models\")\n",
        "plt.legend()\n",
        "plt.show()"
      ]
    },
    {
      "cell_type": "code",
      "execution_count": null,
      "metadata": {
        "colab": {
          "base_uri": "https://localhost:8080/"
        },
        "id": "CpVP4loTQ60e",
        "outputId": "575f1283-5549-4531-ebf0-26ab9d6e9fb1"
      },
      "outputs": [
        {
          "name": "stdout",
          "output_type": "stream",
          "text": [
            "The difference in mean F1-scores between the two models is not statistically significant.\n"
          ]
        },
        {
          "name": "stderr",
          "output_type": "stream",
          "text": [
            "<ipython-input-82-201e06a34657>:4: RuntimeWarning: Precision loss occurred in moment calculation due to catastrophic cancellation. This occurs when the data are nearly identical. Results may be unreliable.\n",
            "  t_stat, p_value = ttest_ind(f1_lr, f1_lstm)\n"
          ]
        }
      ],
      "source": [
        "from scipy.stats import ttest_ind\n",
        "\n",
        "# Perform T-test\n",
        "t_stat, p_value = ttest_ind(f1_lr, f1_lstm)\n",
        "\n",
        "# Set significance level\n",
        "alpha = 0.05\n",
        "\n",
        "# Check if p-value is less than significance level\n",
        "if p_value < alpha:\n",
        "    print(\"The difference in mean F1-scores between the two models is statistically significant.\")\n",
        "else:\n",
        "    print(\"The difference in mean F1-scores between the two models is not statistically significant.\")"
      ]
    },
    {
      "attachments": {},
      "cell_type": "markdown",
      "metadata": {
        "id": "oD_mG01glYL_"
      },
      "source": [
        "## Findings:"
      ]
    },
    {
      "attachments": {},
      "cell_type": "markdown",
      "metadata": {
        "id": "O0ciyJb1lhgb"
      },
      "source": [
        "Logistic Regression: The confusion matrix for the logistic regression model shows that it correctly classifies 31920 positive tweets and 31428 negative tweets, but misclassifies 8131 positive tweets as negative and 8521 negative tweets as positive. This indicates that the logistic regression model has a relatively high false positive and false negative rate, which affects its overall performance. \n",
        "\n",
        " \n",
        "\n",
        "LSTM: The confusion matrix for the LSTM model shows that it correctly classifies 31314 positive tweets and 32505 negative tweets, but misclassifies 8737 positive tweets as negative and 7444 negative tweets as positive. This indicates that the LSTM model has a lower false positive and false negative rate compared to the logistic regression model, which contributes to its higher overall performance. \n",
        "\n",
        " \n",
        "\n",
        "Overall, the confusion matrix confirms that the LSTM model performs better than the logistic regression model on the sentiment analysis task. The LSTM model has a lower false positive and false negative rate, which improves its overall accuracy, precision, recall, and F1-score. \n",
        "## Comparison of Evaluation Metrics for Logistic Regression and LSTM models\n",
        "The obtained results show that the LSTM model consistently outperforms the logistic regression model across all evaluation metrics. The LSTM model demonstrates slightly higher accuracy, precision, recall, and F1-score, indicating its ability to predict sentiment in tweets. These findings suggest that the LSTM model is a better choice for sentiment analysis on this dataset, with potential real-world impacts in accurately identifying positive and negative sentiments. \n",
        "\n",
        "## T-Test Comparison:\n",
        " T-test can be conducted to assess the statistical significance of the differences observed in the evaluation metrics. A T-test can provide evidence of whether the performance difference is statistically significant.\n",
        "\n",
        " It is worth noting that we did not obtain a statistically significant difference in mean F1-scores between the two models using the T-test. However, the evaluation metrics still suggest that the LSTM model performs better than the Logistic Regression model [8]. Therefore, we can conclude that the LSTM model is slightly better suited for sentiment analysis on this dataset.  "
      ]
    },
    {
      "attachments": {},
      "cell_type": "markdown",
      "metadata": {
        "id": "5525hIIjl__k"
      },
      "source": [
        "## Conclusion\n",
        "\n",
        "In conclusion, the LSTM model demonstrated superior performance across all evaluation metrics, exhibiting marginally higher accuracy, precision, recall, and F1-score. These findings underscore the potential real-world implications of the LSTM model, making it a favorable choice for sentiment analysis endeavors. Nonetheless, it is worth noting that further refinements and assessments on diverse datasets and tasks are necessary to validate and optimize the models' performance for specific application"
      ]
    }
  ],
  "metadata": {
    "accelerator": "GPU",
    "colab": {
      "gpuType": "T4",
      "provenance": []
    },
    "gpuClass": "standard",
    "kernelspec": {
      "display_name": "Python 3",
      "name": "python3"
    },
    "language_info": {
      "name": "python"
    }
  },
  "nbformat": 4,
  "nbformat_minor": 0
}
